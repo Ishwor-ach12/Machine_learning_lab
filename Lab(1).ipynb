{
 "cells": [
  {
   "cell_type": "markdown",
   "id": "058336bd-47b4-47a8-9274-7b51b93f29bb",
   "metadata": {},
   "source": [
    "# Ishwor Acharya [BL.EN.U4CSE22088]\n",
    "## SET B\n",
    "\n",
    "### Question 1\n"
   ]
  },
  {
   "cell_type": "code",
   "execution_count": 2,
   "id": "10ee5982-2c7a-4886-bb66-a2128203619c",
   "metadata": {},
   "outputs": [
    {
     "name": "stdin",
     "output_type": "stream",
     "text": [
      "enter a string:  ishwor\n"
     ]
    },
    {
     "name": "stdout",
     "output_type": "stream",
     "text": [
      "no of vowels: 2\n",
      "no of consonents: 4 \n"
     ]
    }
   ],
   "source": [
    "a = input(\"enter a string: \")\n",
    "list = ['a','e','i','o','u']\n",
    "v_count = 0\n",
    "c_count = 0\n",
    "for i in a:\n",
    "    if i in list:\n",
    "        v_count+=1\n",
    "    else:\n",
    "        c_count+=1\n",
    "print(\"no of vowels: %d\"% v_count)\n",
    "print(\"no of consonents: %d \"% c_count)\n",
    "        "
   ]
  },
  {
   "cell_type": "markdown",
   "id": "15563db5-8702-44d0-a962-827c098e2e96",
   "metadata": {},
   "source": [
    "### Question 2"
   ]
  },
  {
   "cell_type": "code",
   "execution_count": 17,
   "id": "c0d2d4ba-cfc7-4231-8633-389617af63a2",
   "metadata": {},
   "outputs": [
    {
     "name": "stdout",
     "output_type": "stream",
     "text": [
      "Enter the details for matrix A\n"
     ]
    },
    {
     "name": "stdin",
     "output_type": "stream",
     "text": [
      "Enter the number of rows:  2\n",
      "Enter the number of columns:  3\n"
     ]
    },
    {
     "name": "stdout",
     "output_type": "stream",
     "text": [
      "Enter the entries for matrix A: \n"
     ]
    },
    {
     "name": "stdin",
     "output_type": "stream",
     "text": [
      " 1\n",
      " 2\n",
      " 3\n",
      " 4\n",
      " 5\n",
      " 6\n"
     ]
    },
    {
     "name": "stdout",
     "output_type": "stream",
     "text": [
      "Enter the details for matrix B\n"
     ]
    },
    {
     "name": "stdin",
     "output_type": "stream",
     "text": [
      "Enter the number of rows:  3\n",
      "Enter the number of columns:  2\n"
     ]
    },
    {
     "name": "stdout",
     "output_type": "stream",
     "text": [
      "Enter the entries of matrix B: \n"
     ]
    },
    {
     "name": "stdin",
     "output_type": "stream",
     "text": [
      " 4\n",
      " 7\n",
      " 5\n",
      " 8\n",
      " 6\n",
      " 9\n"
     ]
    },
    {
     "name": "stdout",
     "output_type": "stream",
     "text": [
      "[[ 32  50]\n",
      " [ 77 122]]\n"
     ]
    }
   ],
   "source": [
    "import numpy as np\n",
    "print(\"Enter the details for matrix A\")\n",
    "R = int(input(\"Enter the number of rows: \"))\n",
    "C = int(input(\"Enter the number of columns: \"))\n",
    "matrix1 = []\n",
    "print(\"Enter the entries for matrix A: \")\n",
    "for var in range(0,R):\n",
    "    row=[]\n",
    "    for var2 in range(0,C):\n",
    "        number = int(input())\n",
    "        row.append(number)\n",
    "    matrix1.append(row)\n",
    "\n",
    "\n",
    "print(\"Enter the details for matrix B\")\n",
    "R2 = int(input(\"Enter the number of rows: \"))\n",
    "C2 = int(input(\"Enter the number of columns: \"))\n",
    "matrix2 = []\n",
    "\n",
    "print(\"Enter the entries of matrix B: \")\n",
    "for var in range(0,R2):\n",
    "    row2 = []\n",
    "    for var2 in range(0,C2):\n",
    "        number = int(input())\n",
    "        row2.append(number)\n",
    "    matrix2.append(row2)\n",
    "\n",
    "if C != R2:\n",
    "    print(\"Error in multiplication! please check row and column correspondace\")\n",
    "else:\n",
    "    list2 = []\n",
    "    for i in range(0,R):\n",
    "        for k in range(0,C2):\n",
    "            var = 0\n",
    "            for j in range(0,R2):\n",
    "                var+= matrix1[i][j] * matrix2[j][k]\n",
    "            list2.append(var)\n",
    "    matrix3 = np.array(list2).reshape(R,C2)\n",
    "\n",
    "print(matrix3)\n",
    "\n"
   ]
  },
  {
   "cell_type": "markdown",
   "id": "bd7793ec-21f5-471a-b2b2-5707c8d85528",
   "metadata": {},
   "source": [
    "### Question3"
   ]
  },
  {
   "cell_type": "code",
   "execution_count": 19,
   "id": "60ea7dbb-d19c-41cc-91ce-c4699058dd31",
   "metadata": {},
   "outputs": [
    {
     "name": "stdin",
     "output_type": "stream",
     "text": [
      "Enter number of elements in list 1 3\n",
      " 1\n",
      " 2\n",
      " 3\n",
      "Enter number of elements in list2:  4\n",
      " 1\n",
      " 2\n",
      " 5\n",
      " 6\n"
     ]
    },
    {
     "name": "stdout",
     "output_type": "stream",
     "text": [
      "2\n"
     ]
    }
   ],
   "source": [
    "length = int(input(\"Enter number of elements in list 1\"))\n",
    "list1 =[]\n",
    "for i in range(0,length):\n",
    "    number = int(input())\n",
    "    list1.append(number)\n",
    "length2 = int(input(\"Enter number of elements in list2: \"))\n",
    "list2 = []\n",
    "for i in range(0,length2):\n",
    "    number = int(input())\n",
    "    list2.append(number)\n",
    "\n",
    "result = [i for i in list1 if i in list2]\n",
    "print(len(result))\n"
   ]
  },
  {
   "cell_type": "markdown",
   "id": "7aecd6a5-2779-409b-961c-ab741c772e42",
   "metadata": {},
   "source": [
    "### Question 4"
   ]
  },
  {
   "cell_type": "code",
   "execution_count": null,
   "id": "9f59a84a-6b72-4298-92fe-9f306fce58f5",
   "metadata": {},
   "outputs": [],
   "source": [
    "print(\"Enter the details for matrix A\")\n",
    "R = int(input(\"Enter the number of rows: \"))\n",
    "C = int(input(\"Enter the number of columns: \"))\n",
    "matrix1 = []\n",
    "print(\"Enter the entries for matrix A: \")\n",
    "for var in range(0,R):\n",
    "    row=[]\n",
    "    for var2 in range(0,C):\n",
    "        number = int(input())\n",
    "        row.append(number)\n",
    "    matrix1.append(row)\n",
    "matrix2 = []\n",
    "for var in range(0,R):\n",
    "    row = []\n",
    "    for var2 in range(0,C):\n",
    "        number = matrix1[var2][var]\n",
    "        row.append(number)\n",
    "    matrix2.append(row)"
   ]
  },
  {
   "cell_type": "code",
   "execution_count": null,
   "id": "17248c9e-588f-45de-977e-e0aefe216ad0",
   "metadata": {},
   "outputs": [],
   "source": []
  }
 ],
 "metadata": {
  "kernelspec": {
   "display_name": "Python 3 (ipykernel)",
   "language": "python",
   "name": "python3"
  },
  "language_info": {
   "codemirror_mode": {
    "name": "ipython",
    "version": 3
   },
   "file_extension": ".py",
   "mimetype": "text/x-python",
   "name": "python",
   "nbconvert_exporter": "python",
   "pygments_lexer": "ipython3",
   "version": "3.12.4"
  }
 },
 "nbformat": 4,
 "nbformat_minor": 5
}
